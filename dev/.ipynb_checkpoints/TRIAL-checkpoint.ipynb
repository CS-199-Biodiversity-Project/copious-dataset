{
 "cells": [
  {
   "cell_type": "code",
   "execution_count": 1,
   "id": "7942789c",
   "metadata": {},
   "outputs": [],
   "source": [
    "import pandas as pd"
   ]
  },
  {
   "cell_type": "code",
   "execution_count": 4,
   "id": "a3f0febe",
   "metadata": {},
   "outputs": [
    {
     "data": {
      "text/html": [
       "<div>\n",
       "<style scoped>\n",
       "    .dataframe tbody tr th:only-of-type {\n",
       "        vertical-align: middle;\n",
       "    }\n",
       "\n",
       "    .dataframe tbody tr th {\n",
       "        vertical-align: top;\n",
       "    }\n",
       "\n",
       "    .dataframe thead th {\n",
       "        text-align: right;\n",
       "    }\n",
       "</style>\n",
       "<table border=\"1\" class=\"dataframe\">\n",
       "  <thead>\n",
       "    <tr style=\"text-align: right;\">\n",
       "      <th></th>\n",
       "      <th>1</th>\n",
       "      <th>2</th>\n",
       "    </tr>\n",
       "  </thead>\n",
       "  <tbody>\n",
       "    <tr>\n",
       "      <th>0</th>\n",
       "      <td>T1</td>\n",
       "      <td>GeographicalLocation 178 184\\tBorneo</td>\n",
       "    </tr>\n",
       "    <tr>\n",
       "      <th>1</th>\n",
       "      <td>T2</td>\n",
       "      <td>GeographicalLocation 204 209\\tJapan</td>\n",
       "    </tr>\n",
       "    <tr>\n",
       "      <th>2</th>\n",
       "      <td>T3</td>\n",
       "      <td>GeographicalLocation 562 568\\tBorneo</td>\n",
       "    </tr>\n",
       "    <tr>\n",
       "      <th>3</th>\n",
       "      <td>T4</td>\n",
       "      <td>GeographicalLocation 825 832\\tCelebes</td>\n",
       "    </tr>\n",
       "    <tr>\n",
       "      <th>4</th>\n",
       "      <td>T5</td>\n",
       "      <td>Taxon 851 869\\tHeosemys leytensis</td>\n",
       "    </tr>\n",
       "  </tbody>\n",
       "</table>\n",
       "</div>"
      ],
      "text/plain": [
       "    1                                      2\n",
       "0  T1   GeographicalLocation 178 184\\tBorneo\n",
       "1  T2    GeographicalLocation 204 209\\tJapan\n",
       "2  T3   GeographicalLocation 562 568\\tBorneo\n",
       "3  T4  GeographicalLocation 825 832\\tCelebes\n",
       "4  T5      Taxon 851 869\\tHeosemys leytensis"
      ]
     },
     "execution_count": 4,
     "metadata": {},
     "output_type": "execute_result"
    }
   ],
   "source": [
    "df = pd.read_csv('../test/1126_English_4748_706430_1920.ann', sep='^([^\\s]*)\\s', engine='python', header=None).drop(0, axis=1)\n",
    "df.head()"
   ]
  },
  {
   "cell_type": "code",
   "execution_count": 7,
   "id": "74edfb44",
   "metadata": {},
   "outputs": [
    {
     "name": "stdout",
     "output_type": "stream",
     "text": [
      "        1                                            2\n",
      "0      T1                        Taxon 7 16\\tGRAMINEAE\n",
      "1      T2                    Taxon 24 36\\tTHYSANOLAENA\n",
      "2      T3               Taxon 24 41\\tTHYSANOLAENA Nees\n",
      "3      T4             Taxon 42 61\\tTHYSANOLAENA MAXIMA\n",
      "4      T5      Taxon 42 68\\tTHYSANOLAENA MAXIMA (Roxb)\n",
      "...   ...                                          ...\n",
      "2833  T54      GeographicalLocation 2644 2651\\tPalawan\n",
      "2834  T55                    Person 2726 2733\\tWallace\n",
      "2835  T56                     Taxon 2748 2755\\tapitong\n",
      "2836  T57         GeographicalLocation 2778 2782\\tJava\n",
      "2837  T58  GeographicalLocation 2791 2802\\tPhilippines\n",
      "\n",
      "[2838 rows x 2 columns]\n"
     ]
    }
   ],
   "source": [
    "import pandas as pd\n",
    "import glob\n",
    "\n",
    "path = r'../test/' # use your path\n",
    "all_files = glob.glob(path + \"/*.ann\")\n",
    "\n",
    "# create empty list to hold dataframes from files found\n",
    "dfs = []\n",
    "\n",
    "# for each file in the path above ending .ann\n",
    "for file in all_files:\n",
    "    #open the file\n",
    "    df = pd.read_csv(file, sep='^([^\\s]*)\\s', engine='python', header=None).drop(0, axis=1)\n",
    "    #add this new (temp during the looping) frame to the end of the list\n",
    "    dfs.append(df)\n",
    "\n",
    "#at this point you have a list of frames with each list item as one .ann file.  Like [annFile1, annFile2, etc.] - just not those names.\n",
    "\n",
    "#handle a list that is empty\n",
    "if len(dfs) == 0:\n",
    "    print('No files found.')\n",
    "    #create a dummy frame\n",
    "    df = pd.DataFrame()\n",
    "#or have only one item/frame and get it out\n",
    "elif len(dfs) == 1:\n",
    "    df = dfs[0]\n",
    "#or concatenate more than one frame together\n",
    "else: #modify this join as required.\n",
    "    df = pd.concat(dfs, ignore_index=True)\n",
    "    df = df.reset_index(drop=True)\n",
    "\n",
    "#check what you've got\n",
    "print(df)"
   ]
  },
  {
   "cell_type": "code",
   "execution_count": null,
   "id": "d6ecf677",
   "metadata": {},
   "outputs": [],
   "source": []
  }
 ],
 "metadata": {
  "kernelspec": {
   "display_name": "Python 3 (ipykernel)",
   "language": "python",
   "name": "python3"
  },
  "language_info": {
   "codemirror_mode": {
    "name": "ipython",
    "version": 3
   },
   "file_extension": ".py",
   "mimetype": "text/x-python",
   "name": "python",
   "nbconvert_exporter": "python",
   "pygments_lexer": "ipython3",
   "version": "3.9.7"
  }
 },
 "nbformat": 4,
 "nbformat_minor": 5
}
